{
 "cells": [
  {
   "cell_type": "markdown",
   "metadata": {},
   "source": [
    "# Rodrigo_Mesquita_DR3_TP2\n",
    "## Desenvolvimento de Data-Driven Apps com Python [24E4_3]\n",
    "### Link Github: https://github.com/rodrigo1992-cmyk/DR3_TP2"
   ]
  },
  {
   "cell_type": "markdown",
   "metadata": {},
   "source": [
    "# Orientações\n",
    "\n",
    "- O código deve ser disponibilizado no GitHub, seguindo boas práticas de projeto.\n",
    "- Em questões relacionadas à arquitetura, os alunos devem fornecer diagramas que representem a estrutura da aplicação.\n",
    "- Nas questões de comparação, as respostas devem ser organizadas em formato de tabela.\n",
    "\n",
    "## Critérios de Avaliação\n",
    "\n",
    "- Organização e clareza do código.\n",
    "- Uso de boas práticas de desenvolvimento.\n",
    "- Implementação correta e funcional dos aplicativos.\n",
    "- Explicações concisas com diagramas ou tabelas conforme solicitado."
   ]
  },
  {
   "cell_type": "markdown",
   "metadata": {},
   "source": [
    "# Parte 1: FastAPI\n",
    "\n",
    "## Questão 1\n",
    "\n",
    "Crie uma aplicação simples em FastAPI que utilize o modelo GPT-2 da HuggingFace para gerar textos a partir de uma entrada fornecida via requisição HTTP.\n",
    "\n",
    "### O aplicativo deve:\n",
    "- Receber uma frase de entrada como JSON.\n",
    "- Utilizar a biblioteca transformers do HuggingFace para gerar um texto de saída.\n",
    "- Retornar o texto gerado em uma resposta HTTP.\n",
    "\n",
    "### O que é esperado:\n",
    "- O aplicativo deve gerar uma continuação de texto a partir de uma frase de entrada e retornar a resposta formatada como JSON."
   ]
  },
  {
   "cell_type": "markdown",
   "metadata": {},
   "source": [
    "## Questão 2\n",
    "\n",
    "Crie um aplicativo FastAPI que utiliza o modelo de tradução Helsinki-NLP/opus-mt-en-fr da HuggingFace para traduzir textos do inglês para o francês.\n",
    "\n",
    "### A aplicação deve:\n",
    "- Receber um texto em inglês via uma requisição HTTP.\n",
    "- Traduzir o texto para o francês utilizando o modelo de tradução.\n",
    "- Retornar o texto traduzido em uma resposta JSON.\n",
    "\n",
    "### O que é esperado:\n",
    "- A API deve receber um texto em inglês e retornar sua tradução para o francês, processando tanto frases curtas quanto textos mais longos."
   ]
  },
  {
   "cell_type": "markdown",
   "metadata": {},
   "source": [
    "## Questão 3\n",
    "\n",
    "Com base na API desenvolvida na Questão 2 (Parte 1), explique as principais limitações do modelo de tradução utilizado.\n",
    "\n",
    "### Enumere e discuta:\n",
    "- Limitações quanto à precisão da tradução.\n",
    "- Desafios de tempo de resposta e desempenho em grande escala.\n",
    "- Restrições de custo e escalabilidade.\n",
    "- Limitações na tradução de gírias, expressões idiomáticas ou linguagem de contexto."
   ]
  },
  {
   "cell_type": "markdown",
   "metadata": {},
   "source": [
    "## Questão 4\n",
    "\n",
    "Com base no modelo GPT-2 utilizado na Questão 1 (Parte 1), explique as principais limitações do modelo no contexto da geração de texto.\n",
    "\n",
    "### Discuta:\n",
    "- A coerência do texto gerado.\n",
    "- Possíveis falhas ou incoerências geradas por LLMs.\n",
    "- Desempenho e questões de latência.\n",
    "- Limitações na geração de conteúdo apropriado."
   ]
  },
  {
   "cell_type": "markdown",
   "metadata": {},
   "source": [
    "# Parte 2: LangChain\n",
    "\n",
    "## Questão 1\n",
    "\n",
    "Desenvolva um protótipo utilizando LangChain que simule um chatbot simples com Fake LLM.\n",
    "\n",
    "### A aplicação deve:\n",
    "- Receber um input de texto via FastAPI.\n",
    "- Retornar uma resposta simulada pelo Fake LLM.\n",
    "\n",
    "### O que é esperado:\n",
    "- O protótipo deve simular um chatbot básico que responde a perguntas pré-definidas.\n",
    "- A arquitetura deve ser simples, e você deve explicar a importância de usar Fake LLM para testes rápidos.\n",
    "- Desenhe um diagrama simples da arquitetura do aplicativo, detalhando as principais etapas do fluxo de dados."
   ]
  },
  {
   "cell_type": "markdown",
   "metadata": {},
   "source": [
    "## Questão 2\n",
    "\n",
    "Desenvolva um aplicativo que utilize LangChain para integrar a API da OpenAI.\n",
    "\n",
    "### O aplicativo deve:\n",
    "- Receber um texto em inglês via FastAPI.\n",
    "- Traduzir o texto para o francês utilizando um modelo da OpenAI via LangChain.\n",
    "- Retornar o texto traduzido em uma resposta JSON.\n",
    "\n",
    "### O que é esperado:\n",
    "- O aplicativo deve funcionar como uma API de tradução, semelhante à questão 2 (Parte 1), mas utilizando a OpenAI via LangChain.\n",
    "- A aplicação deve gerenciar as chamadas à API da OpenAI e retornar a tradução com baixa latência.\n",
    "- Forneça um diagrama da arquitetura da aplicação, destacando os componentes principais, como FastAPI, LangChain, e OpenAI."
   ]
  },
  {
   "cell_type": "markdown",
   "metadata": {},
   "source": [
    "## Questão 3\n",
    "\n",
    "Crie uma API semelhante à Questão 2 (Parte 2), mas que utilize o modelo Helsinki-NLP/opus-mt-en-de da HuggingFace para traduzir textos do inglês para o alemão.\n",
    "\n",
    "### A aplicação deve:\n",
    "- Receber um texto em inglês via FastAPI.\n",
    "- Utilizar o LangChain para gerenciar as chamadas ao modelo HuggingFace.\n",
    "- Retornar o texto traduzido para o alemão como resposta JSON.\n",
    "\n",
    "### O que é esperado:\n",
    "- O objetivo é que a aplicação funcione de maneira semelhante às Questões 2 (Parte 1) e 2 (Parte 2), mas desta vez integrando LangChain com HuggingFace.\n",
    "- O modelo a ser utilizado deve ser o Helsinki-NLP/opus-mt-en-de.\n",
    "- Forneça um diagrama detalhado da arquitetura da aplicação, destacando as interações entre FastAPI, LangChain, e HuggingFace."
   ]
  },
  {
   "cell_type": "markdown",
   "metadata": {},
   "source": [
    "## Questão 4\n",
    "\n",
    "Com base na implementação da Questão 2 (Parte 2), explique as principais limitações de utilizar LangChain para integrar a API da OpenAI.\n",
    "\n",
    "### Discuta os seguintes aspectos:\n",
    "- Latência de resposta.\n",
    "- Limites de uso da API da OpenAI.\n",
    "- Desafios de escalabilidade e custo.\n",
    "- Qualidade das traduções geradas em comparação com outros modelos."
   ]
  },
  {
   "cell_type": "markdown",
   "metadata": {},
   "source": [
    "## Questão 5\n",
    "\n",
    "Com base na aplicação desenvolvida na Questão 3 (Parte 2), explique as limitações de usar LangChain para integrar o modelo HuggingFace de tradução.\n",
    "\n",
    "### Discuta aspectos como:\n",
    "- Desempenho e tempo de resposta.\n",
    "- Consumo de recursos computacionais.\n",
    "- Possíveis limitações no ajuste fino do modelo.\n",
    "- Comparação com o uso direto da API HuggingFace."
   ]
  },
  {
   "cell_type": "markdown",
   "metadata": {},
   "source": [
    "## Questão 6\n",
    "\n",
    "Com base nas questões 1-2 (Parte 1) e 2-3 (Parte 2), desenvolva uma tabela comparativa que aborde os seguintes critérios:\n",
    "\n",
    "### Critérios:\n",
    "- Facilidade de uso/configuração.\n",
    "- Latência e desempenho.\n",
    "- Flexibilidade para diferentes modelos.\n",
    "- Custo e escalabilidade.\n",
    "- Adequação para protótipos versus aplicações em produção.\n",
    "\n",
    "### A comparação deve ser apresentada em formato de tabela, com colunas dedicadas a cada critério e linhas comparando FastAPI puro com LangChain."
   ]
  },
  {
   "cell_type": "markdown",
   "metadata": {},
   "source": [
    "# Entrega Final\n",
    "\n",
    "- Todo o código deve ser submetido no GitHub, organizado em repositórios separados para cada questão prática 1-2 (Parte 1) e 1-2-3 (Parte 2).\n",
    "- Incluir um arquivo README.md com instruções detalhadas sobre como executar cada aplicação.\n",
    "- As explicações e diagramas para as questões 3-4 (Parte 1) e 4-5-6 (Parte 2) devem ser enviadas em um arquivo PDF, juntamente com os diagramas e tabelas solicitados.\n"
   ]
  }
 ],
 "metadata": {
  "language_info": {
   "name": "python"
  }
 },
 "nbformat": 4,
 "nbformat_minor": 2
}
